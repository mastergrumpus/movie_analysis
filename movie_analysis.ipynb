{
 "cells": [
  {
   "cell_type": "code",
   "execution_count": 2,
   "id": "894ef0d5-97d2-4326-aadc-87042e55c5b4",
   "metadata": {},
   "outputs": [],
   "source": [
    "import numpy as np\n",
    "import pandas as pd \n",
    "import sqlite3\n",
    "from scipy import stats\n",
    "import matplotlib.pyplot as plt\n",
    "import seaborn as sns\n",
    "from sqlalchemy import create_engine\n",
    "import zipfile\n",
    "%matplotlib inline"
   ]
  },
  {
   "cell_type": "code",
   "execution_count": 3,
   "id": "236b31af-da9c-4982-8926-69b10482fe90",
   "metadata": {},
   "outputs": [],
   "source": [
    "cast = sqlite3.connect('zippedData/im.db')\n",
    "df_gross = pd.read_csv(\"zippedData/bom.movie_gross.csv.gz\")\n",
    "df_info = pd.read_csv(\"zippedData/rt.movie_info.tsv.gz\", sep='\\t')\n",
    "df_reviews = pd.read_csv(\"zippedData/rt.reviews.tsv.gz\", sep='\\t', encoding = 'windows-1252')\n",
    "df_popular = pd.read_csv(\"zippedData/tmdb.movies.csv.gz\")\n",
    "df_budget = pd.read_csv(\"zippedData/tn.movie_budgets.csv.gz\")"
   ]
  },
  {
   "cell_type": "code",
   "execution_count": 5,
   "id": "02b18965-aed5-47c8-b500-0408f7824c24",
   "metadata": {},
   "outputs": [
    {
     "name": "stdout",
     "output_type": "stream",
     "text": [
      "directors      movie_akas     movie_ratings  principals   \n",
      "known_for      movie_basics   persons        writers      \n"
     ]
    }
   ],
   "source": [
    "%%bash \n",
    "\n",
    "sqlite3 zippedData/im.db\n",
    ".tables"
   ]
  },
  {
   "cell_type": "code",
   "execution_count": 98,
   "id": "8edb3dea-02fe-46fc-b91c-f8dd2b65ddc0",
   "metadata": {},
   "outputs": [],
   "source": [
    "engine_gross = create_engine('sqlite://', echo=False)\n",
    "df_gross.to_sql('GROSS', con = engine_gross)\n",
    "#engine_gross.execute(\"SELECT * FROM GROSS\").fetchmany(5)\n",
    "#engine_gross.execute(\"PRAGMA table_info(GROSS);\").fetchall()"
   ]
  },
  {
   "cell_type": "code",
   "execution_count": 99,
   "id": "81db8fe4-8260-4357-9bb0-9c57fab015e6",
   "metadata": {},
   "outputs": [],
   "source": [
    "engine_info = create_engine('sqlite://', echo=False)\n",
    "df_info.to_sql('INFO', con = engine_info)\n",
    "#engine_info.execute(\"SELECT * FROM INFO\").fetchmany(5)\n",
    "#engine_info.execute(\"PRAGMA table_info(INFO);\").fetchall()"
   ]
  },
  {
   "cell_type": "code",
   "execution_count": 100,
   "id": "47c47351-5d91-462d-913b-d82e934f62ed",
   "metadata": {},
   "outputs": [],
   "source": [
    "engine_reviews = create_engine('sqlite://', echo=False)\n",
    "df_reviews.to_sql('REVIEWS', con = engine_reviews)\n",
    "#engine_reviews.execute(\"SELECT * FROM REVIEWS\").fetchall()\n",
    "#engine_reviews.execute(\"PRAGMA table_info(REVIEWS);\").fetchall()"
   ]
  },
  {
   "cell_type": "code",
   "execution_count": 101,
   "id": "e795a798-5005-49ed-80b4-3ad27a17c243",
   "metadata": {},
   "outputs": [],
   "source": [
    "engine_popular = create_engine('sqlite://', echo=False)\n",
    "df_popular.to_sql('POPULAR', con = engine_popular)\n",
    "#engine_popular.execute(\"SELECT * FROM POPULAR\").fetchall()\n",
    "#engine_popular.execute(\"PRAGMA table_info(POPULAR);\").fetchall()"
   ]
  },
  {
   "cell_type": "code",
   "execution_count": 102,
   "id": "b20082ef-5b55-4874-bf51-bd682d872d92",
   "metadata": {},
   "outputs": [],
   "source": [
    "engine_budget = create_engine('sqlite://', echo=False)\n",
    "df_budget.to_sql('BUDGET', con = engine_budget)\n",
    "#engine_budget.execute(\"SELECT * FROM BUDGET\").fetchall()\n",
    "#engine_budget.execute(\"PRAGMA table_info(BUDGET);\").fetchall()"
   ]
  },
  {
   "cell_type": "code",
   "execution_count": null,
   "id": "0140cbec-b09e-4ca7-8bd9-d762064646b2",
   "metadata": {},
   "outputs": [],
   "source": []
  }
 ],
 "metadata": {
  "kernelspec": {
   "display_name": "Python (learn-env)",
   "language": "python",
   "name": "learn-env"
  },
  "language_info": {
   "codemirror_mode": {
    "name": "ipython",
    "version": 3
   },
   "file_extension": ".py",
   "mimetype": "text/x-python",
   "name": "python",
   "nbconvert_exporter": "python",
   "pygments_lexer": "ipython3",
   "version": "3.8.5"
  }
 },
 "nbformat": 4,
 "nbformat_minor": 5
}
